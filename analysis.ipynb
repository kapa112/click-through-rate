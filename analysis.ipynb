{
 "cells": [
  {
   "cell_type": "markdown",
   "id": "a1b24f40",
   "metadata": {},
   "source": [
    "This notebook implements the Naive Bayes and Logistic Regression with Stochastic Gradient Descent from scratch."
   ]
  },
  {
   "cell_type": "code",
   "execution_count": 1,
   "id": "20f76956",
   "metadata": {},
   "outputs": [],
   "source": [
    "import pandas as pd\n",
    "import numpy as np\n",
    "import scipy\n",
    "import pickle\n",
    "from sklearn.model_selection import train_test_split\n",
    "from matplotlib import pyplot as plt"
   ]
  },
  {
   "cell_type": "markdown",
   "id": "2aa54c48",
   "metadata": {},
   "source": [
    "# Getting Data"
   ]
  },
  {
   "cell_type": "code",
   "execution_count": 2,
   "id": "b73b0ec8",
   "metadata": {},
   "outputs": [],
   "source": [
    "#getting feature names\n",
    "with open(\"feature_names.txt\", \"rb\") as fp:\n",
    "    feature_names = pickle.load(fp)"
   ]
  },
  {
   "cell_type": "code",
   "execution_count": 3,
   "id": "c64ef54c",
   "metadata": {},
   "outputs": [],
   "source": [
    "#loading data and splitting it into train and test\n",
    "def get_train_test():\n",
    "    data_sparse = scipy.sparse.load_npz('data_sparse.npz')\n",
    "    \n",
    "    y = data_sparse[:,0]\n",
    "    X = data_sparse[:,1:]\n",
    "    \n",
    "    X_train, X_test, y_train, y_test = train_test_split(\n",
    "    X, y, test_size=0.2, random_state=42)\n",
    "    \n",
    "    return X_train, X_test, y_train, y_test\n",
    "\n",
    "X_train, X_test, y_train, y_test = get_train_test()"
   ]
  },
  {
   "cell_type": "markdown",
   "id": "1cc9e1f9",
   "metadata": {},
   "source": [
    "# Loss Function"
   ]
  },
  {
   "cell_type": "markdown",
   "id": "ade24386",
   "metadata": {},
   "source": [
    "In order to compare the algorithms, one needs to specify the loss function. Since all algorithms discussed here predict probabilities, I use logistic loss function to compare them. The Log Loss is given by:\n",
    "\\begin{equation}\n",
    "Log Loss =-\\left[y_{t} \\log \\left(p_{t}\\right)+\\left(1-y_{t}\\right) \\log \\left(1-p_{t}\\right)\\right]\n",
    "\\end{equation}\n",
    "where vector $p_t$ denotes predicted probability for observation $t$ and $y_t \\in \\{0,1\\}$ denotes where there was a click for observation $t$."
   ]
  },
  {
   "cell_type": "code",
   "execution_count": 4,
   "id": "68c9dcc5",
   "metadata": {},
   "outputs": [],
   "source": [
    "#y is a sparse matrix of dimension Tx1\n",
    "#p is a matrix of dimension Tx1 or a vector of size T\n",
    "def loss(p, y):\n",
    "    \n",
    "    #convert sparse matrix to regular matrix\n",
    "    #this is done as sparse matrices do not support additions / substractions\n",
    "    y = y.A\n",
    "    \n",
    "    #reshaping\n",
    "    y = y.reshape(-1)\n",
    "    p = p.reshape(-1)\n",
    "    \n",
    "    return (-y * np.log(p) - (1 - y) * np.log(1 - p)).mean()"
   ]
  },
  {
   "cell_type": "markdown",
   "id": "948fe562",
   "metadata": {},
   "source": [
    "# Naive Bayes"
   ]
  },
  {
   "cell_type": "markdown",
   "id": "2281719d",
   "metadata": {},
   "source": [
    "Under assumption of conditional independence and using Bayes theorem, one can show that probability of click given set of features $X$ can be obtained using:\n",
    "\\begin{equation}\n",
    "P(Y=1 \\mid X=x) =\\frac{P(Y=1) \\prod_{i} P\\left(X_{i}=x_{i} \\mid Y=1\\right)}{P(Y=1) \\prod_{i} P\\left(X_{i}=x_{i} \\mid Y=1\\right) + P(Y=0) \\prod_{i} P\\left(X_{i}=x_{i} \\mid Y=0\\right)}\n",
    "\\end{equation} \\\n",
    "where $P\\left(X_{i}=x_{i} \\mid Y=1\\right)$ denotes probabilty of feature $X_i$ taking a value $x_i$ given that there is a click. To ensure feasibility and dramatically reduce calaculation time, the code below is based on sparse matrices from the package scipy.sparse. Using logarithms, one obtains alternative expression:\n",
    "\\begin{equation}\n",
    "P(Y=1) \\prod_{i} P\\left(X_{i}=x_{i} \\mid Y=1\\right) = \\exp \\{{\\log \\{{P(Y=1) \\prod_{i} P\\left(X_{i}=x_{i} \\mid Y=1\\right)}\\} \\}} = \\exp \\{ {\\log{P(Y=1)} + \\sum_{i} \\log{P\\left(X_{i}=x_{i} \\mid Y=1\\right)}}\\}\n",
    "\\end{equation}\n",
    "This simplifies the calculations. However, estimated probability can be zero (no observations for particular feature vaue given click or no click). Consequently, zero probabilities are replaced by smallest positive values encountered."
   ]
  },
  {
   "cell_type": "code",
   "execution_count": 5,
   "id": "3903ab97",
   "metadata": {},
   "outputs": [],
   "source": [
    "#function that replaces zero probabilities by small values\n",
    "def replace_zero_probabilities(all_probabilities_given_click, all_probabilities_given_no_click):\n",
    "    \n",
    "    min_click = np.min(all_probabilities_given_click[all_probabilities_given_click > 0])\n",
    "    all_probabilities_given_click[all_probabilities_given_click == 0] = min_click\n",
    "\n",
    "    min_no_click = np.min(all_probabilities_given_no_click[all_probabilities_given_no_click > 0])\n",
    "    all_probabilities_given_no_click[all_probabilities_given_no_click == 0] = min_no_click\n",
    "    \n",
    "    return all_probabilities_given_click, all_probabilities_given_no_click"
   ]
  },
  {
   "cell_type": "code",
   "execution_count": 6,
   "id": "dc1366ed",
   "metadata": {},
   "outputs": [],
   "source": [
    "#function that calculates probabilities of features given click and no click\n",
    "def get_conditional_probabilities_of_features(X_train, X_test, y_train, y_test):\n",
    "    \n",
    "    #getting the indices of rows correponding to click and not click\n",
    "    click_bol = y_train.A.reshape(-1)\n",
    "    no_click_bol = 1 - click_bol\n",
    "    list_of_indices_click = np.array((np.where(click_bol))).tolist()[0]\n",
    "    list_of_indices_no_click = np.array((np.where(no_click_bol))).tolist()[0]\n",
    "    \n",
    "    #getting matrices of features corresponding to observations with click and no click\n",
    "    click_sparse = X_train[list_of_indices_click,:]\n",
    "    no_click_sparse = X_train[list_of_indices_no_click,:]\n",
    "\n",
    "    #getting probabilities for each set of features given click and no click\n",
    "    all_probabilities_given_click = np.array(click_sparse.mean(axis=0).tolist()[0])\n",
    "    all_probabilities_given_no_click = np.array(no_click_sparse.mean(axis=0).tolist()[0])\n",
    "    \n",
    "    #replacing zero probabilities\n",
    "    all_probabilities_given_click, all_probabilities_given_no_click = replace_zero_probabilities(\n",
    "        all_probabilities_given_click, all_probabilities_given_no_click)\n",
    "    \n",
    "    return all_probabilities_given_click, all_probabilities_given_no_click"
   ]
  },
  {
   "cell_type": "code",
   "execution_count": 7,
   "id": "c5d2d361",
   "metadata": {},
   "outputs": [],
   "source": [
    "#function that returns probabilities estimated by Naive Bayes on test set\n",
    "def naive_bayes_sparse(X_train, X_test, y_train, y_test):\n",
    "    \n",
    "    all_probabilities_given_click, all_probabilities_given_no_click = get_conditional_probabilities_of_features(\n",
    "        X_train, X_test, y_train, y_test)\n",
    "\n",
    "    #getting logs of probabilities\n",
    "    all_probabilities_given_click_logs = np.log(all_probabilities_given_click)\n",
    "    all_probabilities_given_no_click_logs = np.log(all_probabilities_given_no_click)\n",
    "\n",
    "    #summing probabilities - using dot product\n",
    "    sum_logs_probabilities_given_click = X_test.dot(all_probabilities_given_click_logs)\n",
    "    sum_logs_probabilities_given_no_click = X_test.dot(all_probabilities_given_no_click_logs)\n",
    "\n",
    "    #getting logs of probabilities of click and no click\n",
    "    prob_click = y_train.mean()\n",
    "    log_p_click = np.log(prob_click)\n",
    "    log_p_no_click = np.log((1 - prob_click))\n",
    "    \n",
    "    #adding all probabilities\n",
    "    log_probability_num = sum_logs_probabilities_given_click + log_p_click\n",
    "    log_probability_den = sum_logs_probabilities_given_no_click + log_p_no_click\n",
    "    numerator = np.exp(log_probability_num)\n",
    "    denominator = numerator + np.exp(log_probability_den)\n",
    "    probs = numerator / denominator\n",
    "    \n",
    "    return probs"
   ]
  },
  {
   "cell_type": "code",
   "execution_count": 8,
   "id": "3b53c7dd",
   "metadata": {},
   "outputs": [],
   "source": [
    "probs_naive_bayes = naive_bayes_sparse(X_train, X_test, y_train, y_test)"
   ]
  },
  {
   "cell_type": "code",
   "execution_count": 9,
   "id": "764d3a0e",
   "metadata": {},
   "outputs": [],
   "source": [
    "loss_naive_bayes = loss(probs_naive_bayes, y_test)"
   ]
  },
  {
   "cell_type": "markdown",
   "id": "ef28364d",
   "metadata": {},
   "source": [
    "# Logistic Regression with SGD"
   ]
  },
  {
   "cell_type": "markdown",
   "id": "899540f8",
   "metadata": {},
   "source": [
    "Due to the high dimension of the matrix in this problem, classical logistic regression is infeasible since the matrix cannot be inverted. Hence, Stochastic Gradient Descent is applied to this problem. Same as in Naive Bayes, the code uses sparse matrices to ensure feasibility and reduce calculation times. For the loss function specified above, the gradient is given by:\n",
    "\\begin{equation}\n",
    "\\nabla Log Loss=\\left(p_{t}-y_{t}\\right) x_{t}\n",
    "\\end{equation}\n",
    "Hence, the weights are updated in the following way:\n",
    "\\begin{equation}\n",
    "w_{t+1} = w_{t}-\\eta_{t}\\left(p_{t}-y_{t}\\right) x_{t}\n",
    "\\end{equation}\n"
   ]
  },
  {
   "cell_type": "code",
   "execution_count": 10,
   "id": "ae0d979b",
   "metadata": {},
   "outputs": [],
   "source": [
    "def logit(w,x):\n",
    "    w = scipy.sparse.csr_matrix(w).reshape(-1,1)\n",
    "    p = 1/(1+np.exp(-((x.dot(w)).A)))\n",
    "    return (p)\n",
    "\n",
    "#p is Nx1 ; x is Nxk ; weights are kx1\n",
    "def grad(p,y,X,learning_rate):\n",
    "    \n",
    "    score = learning_rate*X.transpose().dot(p-y)\n",
    "    return np.array(score)\n",
    "\n",
    "def update_weights(y,X,w,learning_rate):\n",
    "    \n",
    "    # get probabilities\n",
    "    p = logit(w,X).reshape(-1,1)\n",
    "    \n",
    "    # get score\n",
    "    score = grad(p,y,X,learning_rate)\n",
    "    \n",
    "    # update w\n",
    "    w = w - score\n",
    "    \n",
    "    return p, w\n",
    "\n",
    "def sgd_iterative(chunksize, X_train, y_train):\n",
    "    \n",
    "    total_chunks = int(X_train.shape[0] / chunksize)\n",
    "    \n",
    "    #initializing weights\n",
    "    w = np.zeros(X_train.shape[1]).reshape(-1,1)\n",
    "    weights_matrix = np.zeros((X_train.shape[1],total_chunks+1))\n",
    "    weights_matrix[:,0] = w.reshape(-1)\n",
    "    \n",
    "    #initializing log_likelihood\n",
    "    log_likelihood = np.zeros(total_chunks)\n",
    "    \n",
    "    #for each chunk update weights\n",
    "    for chunk_no in range(total_chunks):\n",
    "        X_chunk = X_train[chunk_no*chunksize:(chunk_no+1)*chunksize,:]\n",
    "        y_chunk = y_train[chunk_no*chunksize:(chunk_no+1)*chunksize,:]\n",
    "        \n",
    "        #adaptive learning rate\n",
    "        learning_rate = 1 /(np.sqrt(chunk_no+1) * 10000)\n",
    "        \n",
    "        #updating weights\n",
    "        p, w = update_weights(y_chunk, X_chunk, w, learning_rate)\n",
    "        \n",
    "        #getting log_likelihood\n",
    "        log_likelihood[chunk_no] = loss(p, y_chunk)\n",
    "        \n",
    "        #updating matrix of weights\n",
    "        weights_matrix[:, chunk_no+1] = w.reshape(-1)\n",
    "        \n",
    "    return p, w, weights_matrix, log_likelihood"
   ]
  },
  {
   "cell_type": "code",
   "execution_count": 11,
   "id": "7371f215",
   "metadata": {},
   "outputs": [],
   "source": [
    "#large chunks as we have around 32 million observations in the train set\n",
    "chunksize = 100000\n",
    "p_train, w, weights_matrix, log_likelihood = sgd_iterative(chunksize, X_train, y_train)"
   ]
  },
  {
   "cell_type": "code",
   "execution_count": 12,
   "id": "40f7634b",
   "metadata": {},
   "outputs": [],
   "source": [
    "#obtaining probabilities and loss on test set\n",
    "probs_logistic = logit(w, X_test)\n",
    "loss_logistic = loss(probs_logistic, y_test)"
   ]
  },
  {
   "cell_type": "code",
   "execution_count": 13,
   "id": "34f6b66f",
   "metadata": {},
   "outputs": [
    {
     "data": {
      "text/plain": [
       "Text(0.5, 1.0, 'Log_likelihood on the train set in each iteration')"
      ]
     },
     "execution_count": 13,
     "metadata": {},
     "output_type": "execute_result"
    },
    {
     "data": {
      "image/png": "[encoded data removed]",
      "text/plain": [
       "<Figure size 432x288 with 1 Axes>"
      ]
     },
     "metadata": {
      "needs_background": "light"
     },
     "output_type": "display_data"
    }
   ],
   "source": [
    "#visualizing log_likelihood on the train set as weights are updates\n",
    "plt.plot(log_likelihood)\n",
    "plt.ylabel('log_likelihood')\n",
    "plt.xlabel('iteration')\n",
    "plt.title('Log_likelihood on the train set in each iteration')"
   ]
  },
  {
   "cell_type": "code",
   "execution_count": 14,
   "id": "7319642c",
   "metadata": {},
   "outputs": [
    {
     "data": {
      "text/plain": [
       "Text(0.5, 1.0, 'Weights of some features in each iteration')"
      ]
     },
     "execution_count": 14,
     "metadata": {},
     "output_type": "execute_result"
    },
    {
     "data": {
      "image/png": "[encoded data removed]",
      "text/plain": [
       "<Figure size 432x288 with 1 Axes>"
      ]
     },
     "metadata": {
      "needs_background": "light"
     },
     "output_type": "display_data"
    }
   ],
   "source": [
    "#visualizing how some weights are updated\n",
    "indices_weights = [10,20,30,40]\n",
    "weights_names = list(feature_names[i] for i in indices_weights)\n",
    "plt.plot(weights_matrix[indices_weights,:].T)\n",
    "plt.legend(weights_names)\n",
    "plt.ylabel('weight')\n",
    "plt.xlabel('iteration')\n",
    "plt.title('Weights of some features in each iteration')"
   ]
  },
  {
   "cell_type": "markdown",
   "id": "fec911b8",
   "metadata": {},
   "source": [
    "# Heuristic Method"
   ]
  },
  {
   "cell_type": "markdown",
   "id": "534b9279",
   "metadata": {},
   "source": [
    "To get a benchmark, I calculate the loss resulting from predicting the average click ratio."
   ]
  },
  {
   "cell_type": "code",
   "execution_count": 15,
   "id": "1df53c76",
   "metadata": {},
   "outputs": [],
   "source": [
    "prob_click = y_train.mean()"
   ]
  },
  {
   "cell_type": "code",
   "execution_count": 16,
   "id": "f02d0d40",
   "metadata": {},
   "outputs": [],
   "source": [
    "prob_vector_test = np.repeat(prob_click, X_test.shape[0])"
   ]
  },
  {
   "cell_type": "code",
   "execution_count": 17,
   "id": "0ec3bb39",
   "metadata": {},
   "outputs": [],
   "source": [
    "loss_heuristic = loss(prob_vector_test, y_test)"
   ]
  },
  {
   "cell_type": "markdown",
   "id": "bd6629f0",
   "metadata": {},
   "source": [
    "# Comparison"
   ]
  },
  {
   "cell_type": "code",
   "execution_count": 18,
   "id": "5f49208f",
   "metadata": {},
   "outputs": [
    {
     "name": "stdout",
     "output_type": "stream",
     "text": [
      "Loss from Naive Bayes:  0.46317780185673807\n",
      "Loss from Logistic Regression:  0.43258907835175486\n",
      "Loss from Heuristic Method:  0.4554626127300109\n"
     ]
    }
   ],
   "source": [
    "print(\"Loss from Naive Bayes: \", loss_naive_bayes)\n",
    "print(\"Loss from Logistic Regression: \", loss_logistic)\n",
    "print(\"Loss from Heuristic Method: \", loss_heuristic)"
   ]
  }
 ],
 "metadata": {
  "kernelspec": {
   "display_name": "Python 3",
   "language": "python",
   "name": "python3"
  },
  "language_info": {
   "codemirror_mode": {
    "name": "ipython",
    "version": 3
   },
   "file_extension": ".py",
   "mimetype": "text/x-python",
   "name": "python",
   "nbconvert_exporter": "python",
   "pygments_lexer": "ipython3",
   "version": "3.8.8"
  }
 },
 "nbformat": 4,
 "nbformat_minor": 5
}
