{
 "cells": [
  {
   "cell_type": "code",
   "execution_count": 1,
   "id": "632193ea",
   "metadata": {},
   "outputs": [],
   "source": [
    "import pandas as pd\n",
    "import matplotlib.pyplot as plt\n",
    "# !pip3 install scikit-learn\n",
    "from sklearn.preprocessing import OneHotEncoder\n",
    "from sklearn.model_selection import train_test_split\n",
    "from effCTR.models.Naive_Bayes import Naive_Bayes\n",
    "from effCTR.models.Logistic_SGD import Logistic_SGD\n",
    "from effCTR.utils.loss_functions import log_loss\n",
    "from sklearn.linear_model import SGDClassifier\n",
    "import time"
   ]
  },
  {
   "cell_type": "markdown",
   "id": "b587e399",
   "metadata": {},
   "source": [
    "Data used in this notebook can be found [here](https://www.kaggle.com/competitions/avazu-ctr-prediction/data). \\\n",
    "This notebook transforms the data into appropriate formats and shows how to use the algorithms developed in ``effCTR``."
   ]
  },
  {
   "cell_type": "markdown",
   "id": "2791bb75",
   "metadata": {},
   "source": [
    "# Read and Transform the data"
   ]
  },
  {
   "cell_type": "code",
   "execution_count": 2,
   "id": "d879cc61",
   "metadata": {},
   "outputs": [
    {
     "data": {
      "text/html": [
       "<div>\n",
       "<style scoped>\n",
       "    .dataframe tbody tr th:only-of-type {\n",
       "        vertical-align: middle;\n",
       "    }\n",
       "\n",
       "    .dataframe tbody tr th {\n",
       "        vertical-align: top;\n",
       "    }\n",
       "\n",
       "    .dataframe thead th {\n",
       "        text-align: right;\n",
       "    }\n",
       "</style>\n",
       "<table border=\"1\" class=\"dataframe\">\n",
       "  <thead>\n",
       "    <tr style=\"text-align: right;\">\n",
       "      <th></th>\n",
       "      <th>id</th>\n",
       "      <th>click</th>\n",
       "      <th>hour</th>\n",
       "      <th>C1</th>\n",
       "      <th>banner_pos</th>\n",
       "      <th>site_id</th>\n",
       "      <th>site_domain</th>\n",
       "      <th>site_category</th>\n",
       "      <th>app_id</th>\n",
       "      <th>app_domain</th>\n",
       "      <th>...</th>\n",
       "      <th>device_type</th>\n",
       "      <th>device_conn_type</th>\n",
       "      <th>C14</th>\n",
       "      <th>C15</th>\n",
       "      <th>C16</th>\n",
       "      <th>C17</th>\n",
       "      <th>C18</th>\n",
       "      <th>C19</th>\n",
       "      <th>C20</th>\n",
       "      <th>C21</th>\n",
       "    </tr>\n",
       "  </thead>\n",
       "  <tbody>\n",
       "    <tr>\n",
       "      <th>0</th>\n",
       "      <td>1.000009e+18</td>\n",
       "      <td>0</td>\n",
       "      <td>14102100</td>\n",
       "      <td>1005</td>\n",
       "      <td>0</td>\n",
       "      <td>1fbe01fe</td>\n",
       "      <td>f3845767</td>\n",
       "      <td>28905ebd</td>\n",
       "      <td>ecad2386</td>\n",
       "      <td>7801e8d9</td>\n",
       "      <td>...</td>\n",
       "      <td>1</td>\n",
       "      <td>2</td>\n",
       "      <td>15706</td>\n",
       "      <td>320</td>\n",
       "      <td>50</td>\n",
       "      <td>1722</td>\n",
       "      <td>0</td>\n",
       "      <td>35</td>\n",
       "      <td>-1</td>\n",
       "      <td>79</td>\n",
       "    </tr>\n",
       "    <tr>\n",
       "      <th>1</th>\n",
       "      <td>1.000017e+19</td>\n",
       "      <td>0</td>\n",
       "      <td>14102100</td>\n",
       "      <td>1005</td>\n",
       "      <td>0</td>\n",
       "      <td>1fbe01fe</td>\n",
       "      <td>f3845767</td>\n",
       "      <td>28905ebd</td>\n",
       "      <td>ecad2386</td>\n",
       "      <td>7801e8d9</td>\n",
       "      <td>...</td>\n",
       "      <td>1</td>\n",
       "      <td>0</td>\n",
       "      <td>15704</td>\n",
       "      <td>320</td>\n",
       "      <td>50</td>\n",
       "      <td>1722</td>\n",
       "      <td>0</td>\n",
       "      <td>35</td>\n",
       "      <td>100084</td>\n",
       "      <td>79</td>\n",
       "    </tr>\n",
       "    <tr>\n",
       "      <th>2</th>\n",
       "      <td>1.000037e+19</td>\n",
       "      <td>0</td>\n",
       "      <td>14102100</td>\n",
       "      <td>1005</td>\n",
       "      <td>0</td>\n",
       "      <td>1fbe01fe</td>\n",
       "      <td>f3845767</td>\n",
       "      <td>28905ebd</td>\n",
       "      <td>ecad2386</td>\n",
       "      <td>7801e8d9</td>\n",
       "      <td>...</td>\n",
       "      <td>1</td>\n",
       "      <td>0</td>\n",
       "      <td>15704</td>\n",
       "      <td>320</td>\n",
       "      <td>50</td>\n",
       "      <td>1722</td>\n",
       "      <td>0</td>\n",
       "      <td>35</td>\n",
       "      <td>100084</td>\n",
       "      <td>79</td>\n",
       "    </tr>\n",
       "    <tr>\n",
       "      <th>3</th>\n",
       "      <td>1.000064e+19</td>\n",
       "      <td>0</td>\n",
       "      <td>14102100</td>\n",
       "      <td>1005</td>\n",
       "      <td>0</td>\n",
       "      <td>1fbe01fe</td>\n",
       "      <td>f3845767</td>\n",
       "      <td>28905ebd</td>\n",
       "      <td>ecad2386</td>\n",
       "      <td>7801e8d9</td>\n",
       "      <td>...</td>\n",
       "      <td>1</td>\n",
       "      <td>0</td>\n",
       "      <td>15706</td>\n",
       "      <td>320</td>\n",
       "      <td>50</td>\n",
       "      <td>1722</td>\n",
       "      <td>0</td>\n",
       "      <td>35</td>\n",
       "      <td>100084</td>\n",
       "      <td>79</td>\n",
       "    </tr>\n",
       "    <tr>\n",
       "      <th>4</th>\n",
       "      <td>1.000068e+19</td>\n",
       "      <td>0</td>\n",
       "      <td>14102100</td>\n",
       "      <td>1005</td>\n",
       "      <td>1</td>\n",
       "      <td>fe8cc448</td>\n",
       "      <td>9166c161</td>\n",
       "      <td>0569f928</td>\n",
       "      <td>ecad2386</td>\n",
       "      <td>7801e8d9</td>\n",
       "      <td>...</td>\n",
       "      <td>1</td>\n",
       "      <td>0</td>\n",
       "      <td>18993</td>\n",
       "      <td>320</td>\n",
       "      <td>50</td>\n",
       "      <td>2161</td>\n",
       "      <td>0</td>\n",
       "      <td>35</td>\n",
       "      <td>-1</td>\n",
       "      <td>157</td>\n",
       "    </tr>\n",
       "  </tbody>\n",
       "</table>\n",
       "<p>5 rows × 24 columns</p>\n",
       "</div>"
      ],
      "text/plain": [
       "             id  click      hour    C1  banner_pos   site_id site_domain  \\\n",
       "0  1.000009e+18      0  14102100  1005           0  1fbe01fe    f3845767   \n",
       "1  1.000017e+19      0  14102100  1005           0  1fbe01fe    f3845767   \n",
       "2  1.000037e+19      0  14102100  1005           0  1fbe01fe    f3845767   \n",
       "3  1.000064e+19      0  14102100  1005           0  1fbe01fe    f3845767   \n",
       "4  1.000068e+19      0  14102100  1005           1  fe8cc448    9166c161   \n",
       "\n",
       "  site_category    app_id app_domain  ... device_type device_conn_type    C14  \\\n",
       "0      28905ebd  ecad2386   7801e8d9  ...           1                2  15706   \n",
       "1      28905ebd  ecad2386   7801e8d9  ...           1                0  15704   \n",
       "2      28905ebd  ecad2386   7801e8d9  ...           1                0  15704   \n",
       "3      28905ebd  ecad2386   7801e8d9  ...           1                0  15706   \n",
       "4      0569f928  ecad2386   7801e8d9  ...           1                0  18993   \n",
       "\n",
       "   C15  C16   C17  C18  C19     C20  C21  \n",
       "0  320   50  1722    0   35      -1   79  \n",
       "1  320   50  1722    0   35  100084   79  \n",
       "2  320   50  1722    0   35  100084   79  \n",
       "3  320   50  1722    0   35  100084   79  \n",
       "4  320   50  2161    0   35      -1  157  \n",
       "\n",
       "[5 rows x 24 columns]"
      ]
     },
     "execution_count": 2,
     "metadata": {},
     "output_type": "execute_result"
    }
   ],
   "source": [
    "df = pd.read_csv('train.gz')\n",
    "df.head()"
   ]
  },
  {
   "cell_type": "code",
   "execution_count": 3,
   "id": "d798070f",
   "metadata": {},
   "outputs": [
    {
     "data": {
      "text/plain": [
       "id                  40428967\n",
       "click                      2\n",
       "hour                     240\n",
       "C1                         7\n",
       "banner_pos                 7\n",
       "site_id                 4737\n",
       "site_domain             7745\n",
       "site_category             26\n",
       "app_id                  8552\n",
       "app_domain               559\n",
       "app_category              36\n",
       "device_id            2686408\n",
       "device_ip            6729486\n",
       "device_model            8251\n",
       "device_type                5\n",
       "device_conn_type           4\n",
       "C14                     2626\n",
       "C15                        8\n",
       "C16                        9\n",
       "C17                      435\n",
       "C18                        4\n",
       "C19                       68\n",
       "C20                      172\n",
       "C21                       60\n",
       "dtype: int64"
      ]
     },
     "execution_count": 3,
     "metadata": {},
     "output_type": "execute_result"
    }
   ],
   "source": [
    "df.nunique()"
   ]
  },
  {
   "cell_type": "markdown",
   "id": "8dc045a0",
   "metadata": {},
   "source": [
    "Dropping variables with lots of categories to prevent high dimensionality:"
   ]
  },
  {
   "cell_type": "code",
   "execution_count": 4,
   "id": "5c532bc2",
   "metadata": {},
   "outputs": [],
   "source": [
    "df = df[['click', 'C1', 'banner_pos', 'site_category',\n",
    "         'app_category', 'device_type', 'device_conn_type',\n",
    "         'C15', 'C16', 'C18']]"
   ]
  },
  {
   "cell_type": "code",
   "execution_count": 5,
   "id": "cc5fb024",
   "metadata": {},
   "outputs": [
    {
     "data": {
      "text/html": [
       "<div>\n",
       "<style scoped>\n",
       "    .dataframe tbody tr th:only-of-type {\n",
       "        vertical-align: middle;\n",
       "    }\n",
       "\n",
       "    .dataframe tbody tr th {\n",
       "        vertical-align: top;\n",
       "    }\n",
       "\n",
       "    .dataframe thead th {\n",
       "        text-align: right;\n",
       "    }\n",
       "</style>\n",
       "<table border=\"1\" class=\"dataframe\">\n",
       "  <thead>\n",
       "    <tr style=\"text-align: right;\">\n",
       "      <th></th>\n",
       "      <th>click</th>\n",
       "      <th>C1</th>\n",
       "      <th>banner_pos</th>\n",
       "      <th>site_category</th>\n",
       "      <th>app_category</th>\n",
       "      <th>device_type</th>\n",
       "      <th>device_conn_type</th>\n",
       "      <th>C15</th>\n",
       "      <th>C16</th>\n",
       "      <th>C18</th>\n",
       "    </tr>\n",
       "  </thead>\n",
       "  <tbody>\n",
       "    <tr>\n",
       "      <th>0</th>\n",
       "      <td>0</td>\n",
       "      <td>1005</td>\n",
       "      <td>0</td>\n",
       "      <td>28905ebd</td>\n",
       "      <td>07d7df22</td>\n",
       "      <td>1</td>\n",
       "      <td>2</td>\n",
       "      <td>320</td>\n",
       "      <td>50</td>\n",
       "      <td>0</td>\n",
       "    </tr>\n",
       "    <tr>\n",
       "      <th>1</th>\n",
       "      <td>0</td>\n",
       "      <td>1005</td>\n",
       "      <td>0</td>\n",
       "      <td>28905ebd</td>\n",
       "      <td>07d7df22</td>\n",
       "      <td>1</td>\n",
       "      <td>0</td>\n",
       "      <td>320</td>\n",
       "      <td>50</td>\n",
       "      <td>0</td>\n",
       "    </tr>\n",
       "    <tr>\n",
       "      <th>2</th>\n",
       "      <td>0</td>\n",
       "      <td>1005</td>\n",
       "      <td>0</td>\n",
       "      <td>28905ebd</td>\n",
       "      <td>07d7df22</td>\n",
       "      <td>1</td>\n",
       "      <td>0</td>\n",
       "      <td>320</td>\n",
       "      <td>50</td>\n",
       "      <td>0</td>\n",
       "    </tr>\n",
       "    <tr>\n",
       "      <th>3</th>\n",
       "      <td>0</td>\n",
       "      <td>1005</td>\n",
       "      <td>0</td>\n",
       "      <td>28905ebd</td>\n",
       "      <td>07d7df22</td>\n",
       "      <td>1</td>\n",
       "      <td>0</td>\n",
       "      <td>320</td>\n",
       "      <td>50</td>\n",
       "      <td>0</td>\n",
       "    </tr>\n",
       "    <tr>\n",
       "      <th>4</th>\n",
       "      <td>0</td>\n",
       "      <td>1005</td>\n",
       "      <td>1</td>\n",
       "      <td>0569f928</td>\n",
       "      <td>07d7df22</td>\n",
       "      <td>1</td>\n",
       "      <td>0</td>\n",
       "      <td>320</td>\n",
       "      <td>50</td>\n",
       "      <td>0</td>\n",
       "    </tr>\n",
       "  </tbody>\n",
       "</table>\n",
       "</div>"
      ],
      "text/plain": [
       "   click    C1  banner_pos site_category app_category  device_type  \\\n",
       "0      0  1005           0      28905ebd     07d7df22            1   \n",
       "1      0  1005           0      28905ebd     07d7df22            1   \n",
       "2      0  1005           0      28905ebd     07d7df22            1   \n",
       "3      0  1005           0      28905ebd     07d7df22            1   \n",
       "4      0  1005           1      0569f928     07d7df22            1   \n",
       "\n",
       "   device_conn_type  C15  C16  C18  \n",
       "0                 2  320   50    0  \n",
       "1                 0  320   50    0  \n",
       "2                 0  320   50    0  \n",
       "3                 0  320   50    0  \n",
       "4                 0  320   50    0  "
      ]
     },
     "execution_count": 5,
     "metadata": {},
     "output_type": "execute_result"
    }
   ],
   "source": [
    "df.head()"
   ]
  },
  {
   "cell_type": "markdown",
   "id": "3583bc77",
   "metadata": {},
   "source": [
    "Using one-hot encoding to transform dataframe into sparse matrix:"
   ]
  },
  {
   "cell_type": "code",
   "execution_count": 6,
   "id": "9c3b7251",
   "metadata": {},
   "outputs": [],
   "source": [
    "encoder = OneHotEncoder(drop='first', sparse_output=True)\n",
    "df_sparse = encoder.fit_transform(df)\n",
    "feature_names = encoder.get_feature_names_out(df.columns)"
   ]
  },
  {
   "cell_type": "markdown",
   "id": "f44c006a",
   "metadata": {},
   "source": [
    "Splitting data into train and test set:"
   ]
  },
  {
   "cell_type": "code",
   "execution_count": 7,
   "id": "5aba3373",
   "metadata": {},
   "outputs": [],
   "source": [
    "def get_train_test(df_sparse):\n",
    "    y = df_sparse[:,0]\n",
    "    X = df_sparse[:,1:]\n",
    "    \n",
    "    X_train, X_test, y_train, y_test = train_test_split(\n",
    "    X, y, test_size=0.2, random_state=42)\n",
    "    \n",
    "    return X_train, X_test, y_train, y_test\n",
    "\n",
    "X_train, X_test, y_train, y_test = get_train_test(df_sparse)"
   ]
  },
  {
   "cell_type": "markdown",
   "id": "841af435",
   "metadata": {},
   "source": [
    "# Apply Naive Bayes"
   ]
  },
  {
   "cell_type": "markdown",
   "id": "ddc8125e",
   "metadata": {},
   "source": [
    "To see the list of possible parameters used in the algorithm, check [here](https://github.com/kapa112/effCTR/blob/main/effCTR/models/Naive_Bayes.py#L11) \\\n",
    "Intialize and fit:"
   ]
  },
  {
   "cell_type": "code",
   "execution_count": 8,
   "id": "17d69105",
   "metadata": {},
   "outputs": [
    {
     "data": {
      "text/plain": [
       "<effCTR.models.Naive_Bayes.Naive_Bayes at 0x39a04a190>"
      ]
     },
     "execution_count": 8,
     "metadata": {},
     "output_type": "execute_result"
    }
   ],
   "source": [
    "Naive_Bayes = Naive_Bayes()\n",
    "Naive_Bayes.fit(X_train, y_train)"
   ]
  },
  {
   "cell_type": "markdown",
   "id": "cd727781",
   "metadata": {},
   "source": [
    "Obtain predictions and average log loss:"
   ]
  },
  {
   "cell_type": "code",
   "execution_count": 9,
   "id": "1ba87aeb",
   "metadata": {},
   "outputs": [
    {
     "data": {
      "text/plain": [
       "array([0.05788977, 0.180956  , 0.31128074, ..., 0.03081143, 0.2926836 ,\n",
       "       0.06849483])"
      ]
     },
     "execution_count": 9,
     "metadata": {},
     "output_type": "execute_result"
    }
   ],
   "source": [
    "preds_bayes = Naive_Bayes.predict(X_test)\n",
    "preds_bayes"
   ]
  },
  {
   "cell_type": "code",
   "execution_count": 10,
   "id": "30f6c7fa",
   "metadata": {},
   "outputs": [
    {
     "data": {
      "text/plain": [
       "0.46318140239261707"
      ]
     },
     "execution_count": 10,
     "metadata": {},
     "output_type": "execute_result"
    }
   ],
   "source": [
    "log_loss_bayes = log_loss(preds_bayes, y_test)\n",
    "log_loss_bayes"
   ]
  },
  {
   "cell_type": "markdown",
   "id": "825c0908",
   "metadata": {},
   "source": [
    "# Apply Logistic SGD"
   ]
  },
  {
   "cell_type": "markdown",
   "id": "cbbee2aa",
   "metadata": {},
   "source": [
    "To see the list of possible parameters used in the algorithm, check [here](https://github.com/kapa112/effCTR/blob/main/effCTR/models/Logistic_SGD.py#L20). \\\n",
    "Since ``Logistic_SGD`` has the same structure, we use equivalent methods as for Naive Bayes:"
   ]
  },
  {
   "cell_type": "code",
   "execution_count": 11,
   "id": "e16b33ef",
   "metadata": {},
   "outputs": [
    {
     "name": "stdout",
     "output_type": "stream",
     "text": [
      "This is training time: 5.164884090423584\n",
      "This is log_loss obtained on a train set: 0.43101582516767856\n",
      "This is log_loss obtained on a test set: 0.4308945103791456\n"
     ]
    }
   ],
   "source": [
    "start_time = time.time()\n",
    "LSGD = Logistic_SGD(chunksize=3200, max_epochs=1, learning_rate=0.0001)\n",
    "LSGD.fit(X_train, y_train)\n",
    "train_time = time.time() - start_time\n",
    "\n",
    "# log_loss on train set\n",
    "preds_logistic_train = LSGD.predict(X_train)\n",
    "log_loss_logistic_train = log_loss(preds_logistic_train, y_train)\n",
    "\n",
    "# log_loss on train set\n",
    "preds_logistic_test = LSGD.predict(X_test)\n",
    "log_loss_logistic_test = log_loss(preds_logistic_test, y_test)\n",
    "print(f'This is training time: {train_time}')\n",
    "print(f'This is log_loss obtained on a train set: {log_loss_logistic_train}')\n",
    "print(f'This is log_loss obtained on a test set: {log_loss_logistic_test}')"
   ]
  },
  {
   "cell_type": "markdown",
   "id": "bd7adc52",
   "metadata": {},
   "source": [
    "Additionally, we can visualize how weights are updated during the learing process:"
   ]
  },
  {
   "cell_type": "code",
   "execution_count": 12,
   "id": "8eb491e6",
   "metadata": {},
   "outputs": [
    {
     "data": {
      "image/png": "[encoded data removed]",
      "text/plain": [
       "<Figure size 640x480 with 1 Axes>"
      ]
     },
     "metadata": {},
     "output_type": "display_data"
    }
   ],
   "source": [
    "indices_weights = [10,20,30,40]\n",
    "weight_names = list(feature_names[i] for i in indices_weights)\n",
    "LSGD.plot_weights(\n",
    "    indices_weights=indices_weights,\n",
    "    weight_names=weight_names)"
   ]
  },
  {
   "cell_type": "markdown",
   "id": "3330d927",
   "metadata": {},
   "source": [
    "We can also visualize how ``log_likelihood`` changes in during the learning process:"
   ]
  },
  {
   "cell_type": "code",
   "execution_count": 13,
   "id": "a0a5430b",
   "metadata": {},
   "outputs": [
    {
     "data": {
      "text/plain": [
       "[<matplotlib.lines.Line2D at 0x3be9a4bd0>]"
      ]
     },
     "execution_count": 13,
     "metadata": {},
     "output_type": "execute_result"
    },
    {
     "data": {
      "image/png": "[encoded data removed]",
      "text/plain": [
       "<Figure size 640x480 with 1 Axes>"
      ]
     },
     "metadata": {},
     "output_type": "display_data"
    }
   ],
   "source": [
    "plt.plot(LSGD.log_likelihood)"
   ]
  },
  {
   "cell_type": "markdown",
   "id": "42c9cce8",
   "metadata": {},
   "source": [
    "# SGD With `sklearn`"
   ]
  },
  {
   "cell_type": "markdown",
   "id": "1a82918b",
   "metadata": {},
   "source": [
    "To investigate how the implementation of SGD in `effCTR` compares to `SGDClassifier` from `sklearn`, the code snippet below evaluates the training time and performance on test data of `SGDClassifier`."
   ]
  },
  {
   "cell_type": "code",
   "execution_count": 15,
   "id": "9c5a61f8",
   "metadata": {},
   "outputs": [
    {
     "name": "stderr",
     "output_type": "stream",
     "text": [
      "/Users/kacper/all_venv/lib/python3.11/site-packages/sklearn/linear_model/_stochastic_gradient.py:704: ConvergenceWarning: Maximum number of iteration reached before convergence. Consider increasing max_iter to improve the fit.\n",
      "  warnings.warn(\n"
     ]
    },
    {
     "name": "stdout",
     "output_type": "stream",
     "text": [
      "This is training time: 379.90499472618103\n",
      "This is log_loss obtained on a train set: 0.43102464021571807\n",
      "This is log_loss obtained on a test set: 0.43089965100667554\n"
     ]
    }
   ],
   "source": [
    "start_time = time.time()\n",
    "LSGD = SGDClassifier(max_iter=1, loss='log_loss', alpha=0, fit_intercept=False,\n",
    "                     learning_rate='constant', eta0=0.0001)\n",
    "LSGD.fit(X_train, y_train.A.reshape(-1))\n",
    "train_time = time.time() - start_time\n",
    "\n",
    "# log_loss on train set\n",
    "preds_logistic_train = LSGD.predict_proba(X_train)\n",
    "log_loss_logistic_train = log_loss(preds_logistic_train[:, 1], y_train)\n",
    "\n",
    "# log_loss on train set\n",
    "preds_logistic_test = LSGD.predict_proba(X_test)\n",
    "log_loss_logistic_test = log_loss(preds_logistic_test[:, 1], y_test)\n",
    "print(f'This is training time: {train_time}')\n",
    "print(f'This is log_loss obtained on a train set: {log_loss_logistic_train}')\n",
    "print(f'This is log_loss obtained on a test set: {log_loss_logistic_test}')"
   ]
  },
  {
   "cell_type": "markdown",
   "id": "2b4d74e8",
   "metadata": {},
   "source": [
    "We can see that using `SGDClassifier` in its basic form results in a similar log_loss to `effCTR`, but the training is 50-60x slower on the dataset that consists of ~32mln observations."
   ]
  },
  {
   "cell_type": "code",
   "execution_count": null,
   "id": "43fc7186",
   "metadata": {},
   "outputs": [],
   "source": []
  }
 ],
 "metadata": {
  "kernelspec": {
   "display_name": "python311_learning",
   "language": "python",
   "name": "python311_learning"
  },
  "language_info": {
   "codemirror_mode": {
    "name": "ipython",
    "version": 3
   },
   "file_extension": ".py",
   "mimetype": "text/x-python",
   "name": "python",
   "nbconvert_exporter": "python",
   "pygments_lexer": "ipython3",
   "version": "3.11.0"
  }
 },
 "nbformat": 4,
 "nbformat_minor": 5
}
